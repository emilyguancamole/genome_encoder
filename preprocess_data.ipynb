{
 "cells": [
  {
   "cell_type": "code",
   "execution_count": 1,
   "metadata": {},
   "outputs": [],
   "source": [
    "# !pip install pyreadr -q\n",
    "import pandas as pd\n",
    "import pyreadr\n",
    "\n",
    "result = pyreadr.read_r(\"./SJDdataIN_MidGestExcitNroGen.scRNAseq.Mm1MacMul1Hs1.RData\") # Read .rdata file, returns dict with object names as keys and pandas dataframes as values"
   ]
  },
  {
   "cell_type": "code",
   "execution_count": 2,
   "metadata": {},
   "outputs": [
    {
     "name": "stdout",
     "output_type": "stream",
     "text": [
      "odict_keys(['SampleMetaNamesTable'])\n"
     ]
    }
   ],
   "source": [
    "print(result.keys())    "
   ]
  },
  {
   "cell_type": "code",
   "execution_count": 9,
   "metadata": {},
   "outputs": [
    {
     "data": {
      "text/html": [
       "<div>\n",
       "<style scoped>\n",
       "    .dataframe tbody tr th:only-of-type {\n",
       "        vertical-align: middle;\n",
       "    }\n",
       "\n",
       "    .dataframe tbody tr th {\n",
       "        vertical-align: top;\n",
       "    }\n",
       "\n",
       "    .dataframe thead th {\n",
       "        text-align: right;\n",
       "    }\n",
       "</style>\n",
       "<table border=\"1\" class=\"dataframe\">\n",
       "  <thead>\n",
       "    <tr style=\"text-align: right;\">\n",
       "      <th></th>\n",
       "      <th>Type</th>\n",
       "      <th>XaxisColumn</th>\n",
       "      <th>YaxisColumn</th>\n",
       "      <th>COLaxisColumn</th>\n",
       "      <th>PCHColumn</th>\n",
       "      <th>cexx</th>\n",
       "    </tr>\n",
       "    <tr>\n",
       "      <th>rownames</th>\n",
       "      <th></th>\n",
       "      <th></th>\n",
       "      <th></th>\n",
       "      <th></th>\n",
       "      <th></th>\n",
       "      <th></th>\n",
       "    </tr>\n",
       "  </thead>\n",
       "  <tbody>\n",
       "    <tr>\n",
       "      <th>laManno</th>\n",
       "      <td>2Dscatter</td>\n",
       "      <td>UMAP_1</td>\n",
       "      <td>UMAP_2</td>\n",
       "      <td>SJDscores</td>\n",
       "      <td></td>\n",
       "      <td>1.0</td>\n",
       "    </tr>\n",
       "    <tr>\n",
       "      <th>Micali</th>\n",
       "      <td>2Dscatter</td>\n",
       "      <td>UMAP_1</td>\n",
       "      <td>UMAP_2</td>\n",
       "      <td>SJDscores</td>\n",
       "      <td></td>\n",
       "      <td>1.0</td>\n",
       "    </tr>\n",
       "    <tr>\n",
       "      <th>Trevino</th>\n",
       "      <td>2Dscatter</td>\n",
       "      <td>UMAP_0</td>\n",
       "      <td>UMAP_1</td>\n",
       "      <td>SJDscores</td>\n",
       "      <td></td>\n",
       "      <td>1.0</td>\n",
       "    </tr>\n",
       "  </tbody>\n",
       "</table>\n",
       "</div>"
      ],
      "text/plain": [
       "               Type XaxisColumn YaxisColumn COLaxisColumn PCHColumn  cexx\n",
       "rownames                                                                 \n",
       "laManno   2Dscatter      UMAP_1      UMAP_2     SJDscores             1.0\n",
       "Micali    2Dscatter      UMAP_1      UMAP_2     SJDscores             1.0\n",
       "Trevino   2Dscatter      UMAP_0      UMAP_1     SJDscores             1.0"
      ]
     },
     "execution_count": 9,
     "metadata": {},
     "output_type": "execute_result"
    }
   ],
   "source": [
    "df = result['SampleMetaNamesTable']#['XaxisColumn'] # Convert R data to pandas DataFrame\n",
    "df"
   ]
  },
  {
   "cell_type": "code",
   "execution_count": 11,
   "metadata": {},
   "outputs": [
    {
     "ename": "KeyError",
     "evalue": "'UMAP_1'",
     "output_type": "error",
     "traceback": [
      "\u001b[0;31m---------------------------------------------------------------------------\u001b[0m",
      "\u001b[0;31mKeyError\u001b[0m                                  Traceback (most recent call last)",
      "Cell \u001b[0;32mIn[11], line 1\u001b[0m\n\u001b[0;32m----> 1\u001b[0m x_data \u001b[38;5;241m=\u001b[39m \u001b[43mresult\u001b[49m\u001b[43m[\u001b[49m\u001b[43mdf\u001b[49m\u001b[38;5;241;43m.\u001b[39;49m\u001b[43mloc\u001b[49m\u001b[43m[\u001b[49m\u001b[38;5;124;43m'\u001b[39;49m\u001b[38;5;124;43mlaManno\u001b[39;49m\u001b[38;5;124;43m'\u001b[39;49m\u001b[43m,\u001b[49m\u001b[43m \u001b[49m\u001b[38;5;124;43m'\u001b[39;49m\u001b[38;5;124;43mXaxisColumn\u001b[39;49m\u001b[38;5;124;43m'\u001b[39;49m\u001b[43m]\u001b[49m\u001b[43m]\u001b[49m\n\u001b[1;32m      2\u001b[0m \u001b[38;5;66;03m# y_data = result[df.loc[0, 'YaxisColumn']]\u001b[39;00m\n\u001b[1;32m      3\u001b[0m \u001b[38;5;66;03m# color_data = result[df.loc[0, 'COLaxisColumn']]\u001b[39;00m\n\u001b[1;32m      4\u001b[0m \u001b[38;5;66;03m# size_data = result[df.loc[0, 'cexx']]\u001b[39;00m\n",
      "\u001b[0;31mKeyError\u001b[0m: 'UMAP_1'"
     ]
    }
   ],
   "source": [
    "#tryin stuff\n",
    "x_data = result[df.loc['laManno', 'XaxisColumn']]\n",
    "# y_data = result[df.loc[0, 'YaxisColumn']]\n",
    "# color_data = result[df.loc[0, 'COLaxisColumn']]\n",
    "# size_data = result[df.loc[0, 'cexx']]"
   ]
  },
  {
   "cell_type": "code",
   "execution_count": null,
   "metadata": {},
   "outputs": [],
   "source": []
  }
 ],
 "metadata": {
  "kernelspec": {
   "display_name": "cv2024",
   "language": "python",
   "name": "python3"
  },
  "language_info": {
   "codemirror_mode": {
    "name": "ipython",
    "version": 3
   },
   "file_extension": ".py",
   "mimetype": "text/x-python",
   "name": "python",
   "nbconvert_exporter": "python",
   "pygments_lexer": "ipython3",
   "version": "3.8.19"
  }
 },
 "nbformat": 4,
 "nbformat_minor": 2
}
